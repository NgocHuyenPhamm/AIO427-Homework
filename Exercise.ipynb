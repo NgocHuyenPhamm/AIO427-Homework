{
 "cells": [
  {
   "cell_type": "code",
   "execution_count": 2,
   "metadata": {},
   "outputs": [
    {
     "name": "stdout",
     "output_type": "stream",
     "text": [
      "Print single variable (var1): str_var1\n",
      "Print more than one variables: var1=str_var1, var2= 3, var3= 15.5\n"
     ]
    }
   ],
   "source": [
    "var1 = 'str_var1'\n",
    "var2 = 3\n",
    "var3 = 15.5\n",
    "\n",
    "print('Print single variable (var1):', var1)\n",
    "print(f\"Print more than one variables: var1={var1}, var2= {var2}, var3= {var3}\")"
   ]
  },
  {
   "cell_type": "markdown",
   "metadata": {},
   "source": [
    "1. Viết function thực hiện đánh giá classification model bằng F1-Score."
   ]
  },
  {
   "cell_type": "code",
   "execution_count": 3,
   "metadata": {},
   "outputs": [],
   "source": [
    "# Check data type\n",
    "def is_int(val):\n",
    "    return type(val) == int\n",
    "\n",
    "\n",
    "# Write a function to compute F1-Score\n",
    "def assess_class_model(tp, fp, fn):\n",
    "    precision, recall, f1_score = None, None, None\n",
    "   \n",
    "    # Validate input data types\n",
    "    if (not is_int(tp)):\n",
    "        print('tp must be int')\n",
    "        return\n",
    "    if (not is_int(fp)):\n",
    "        print('fp must be int')\n",
    "        return\n",
    "    if (not is_int(fn)):\n",
    "        print('fp must be int')\n",
    "        return\n",
    "    \n",
    "    # Make sure all parameters are greater than zero\n",
    "    if (tp > 0) and (fp > 0) and (fn > 0):\n",
    "        precision = tp / (tp + fp)\n",
    "        recall = tp / (tp + fn)\n",
    "        f1_score = 2 * (precision*recall) / (precision + recall)\n",
    "\n",
    "        print((f\"Precision is {precision}\"))\n",
    "        print((f\"Recall is {recall}\"))\n",
    "        print((f\"F1-score is {f1_score}\"))\n",
    "\n",
    "    else:\n",
    "        print('tp and fp and fn must be greater than zero')\n",
    "        return"
   ]
  },
  {
   "cell_type": "code",
   "execution_count": 4,
   "metadata": {},
   "outputs": [
    {
     "name": "stdout",
     "output_type": "stream",
     "text": [
      "Precision is 0.6666666666666666\n",
      "Recall is 0.6666666666666666\n",
      "F1-score is 0.6666666666666666\n",
      "None\n"
     ]
    }
   ],
   "source": [
    "accuracy = assess_class_model(10, 5, 5)\n",
    "print(accuracy)"
   ]
  },
  {
   "cell_type": "code",
   "execution_count": 5,
   "metadata": {},
   "outputs": [
    {
     "name": "stdout",
     "output_type": "stream",
     "text": [
      "tp and fp and fn must be greater than zero\n"
     ]
    }
   ],
   "source": [
    "accuracy = assess_class_model(10, 5, 0)"
   ]
  },
  {
   "cell_type": "markdown",
   "metadata": {},
   "source": [
    "2. Viết function mô phỏng theo 3 activation function."
   ]
  },
  {
   "cell_type": "code",
   "execution_count": 10,
   "metadata": {},
   "outputs": [
    {
     "name": "stdout",
     "output_type": "stream",
     "text": [
      "elu: f(5.0) = 5.000000\n"
     ]
    }
   ],
   "source": [
    "import math\n",
    "\n",
    "def is_number(n):\n",
    "    try:\n",
    "        float(n)\n",
    "        return True\n",
    "    except ValueError:\n",
    "        return False\n",
    "\n",
    "def sigmoid(x):\n",
    "    return 1 / (1 + math.exp(-x))\n",
    "\n",
    "def relu(x):\n",
    "    return max(0, x)\n",
    "\n",
    "def elu(x, alpha=0.001):\n",
    "    return x if x > 0 else alpha * (math.exp(x) - 1)\n",
    "\n",
    "def compute_activation():\n",
    "    while True:\n",
    "        x = input('Input x = ')\n",
    "        if not is_number(x):\n",
    "            print('x must be a number. Please try again.')\n",
    "            continue\n",
    "        x = float(x)\n",
    "        break\n",
    "    \n",
    "    activation_functions = {\n",
    "        'sigmoid': sigmoid,\n",
    "        'relu': relu,\n",
    "        'elu': elu\n",
    "    }\n",
    "    \n",
    "    while True:\n",
    "        function_name = input('Input activation function (sigmoid|relu|elu): ')\n",
    "        if function_name in activation_functions:\n",
    "            result = activation_functions[function_name](x)\n",
    "            print(f\"{function_name}: f({x}) = {result:.6f}\")\n",
    "            break\n",
    "        else:\n",
    "            print(f'{function_name} is not supported. Please try again.')\n",
    "            continue\n",
    "\n",
    "compute_activation()\n"
   ]
  },
  {
   "cell_type": "markdown",
   "metadata": {},
   "source": [
    "3. Viết function lựa chọn regression loss function để tính loss:"
   ]
  },
  {
   "cell_type": "code",
   "execution_count": 12,
   "metadata": {},
   "outputs": [
    {
     "name": "stdout",
     "output_type": "stream",
     "text": [
      "loss name: MSE, sample: 0, pred: 2.045205, target: 1.397465, loss: 0.419568\n",
      "loss name: MSE, sample: 1, pred: 7.041659, target: 3.252756, loss: 14.355787\n",
      "loss name: MSE, sample: 2, pred: 3.048619, target: 8.419906, loss: 28.850724\n",
      "loss name: MSE, sample: 3, pred: 8.193584, target: 7.526655, loss: 0.444795\n",
      "loss name: MSE, sample: 4, pred: 5.741088, target: 2.840370, loss: 8.414164\n",
      "final MSE: 10.497007\n"
     ]
    }
   ],
   "source": [
    "import math\n",
    "import random\n",
    "\n",
    "def is_integer(n):\n",
    "    try:\n",
    "        int(n)\n",
    "        return True\n",
    "    except ValueError:\n",
    "        return False\n",
    "\n",
    "def MAE(predict, target):\n",
    "    return abs(predict - target)\n",
    "\n",
    "def MSE(predict, target):\n",
    "    return (predict - target) ** 2\n",
    "\n",
    "def RMSE(predict, target):\n",
    "    return math.sqrt(MSE(predict, target))\n",
    "\n",
    "def compute_loss():\n",
    "    num_samples = input('Input number of samples (integer) which are generated: ')\n",
    "    if not is_integer(num_samples):\n",
    "        print('Number of samples must be an integer.')\n",
    "        return\n",
    "\n",
    "    num_samples = int(num_samples)\n",
    "\n",
    "    predicts = [random.uniform(0, 10) for _ in range(num_samples)]\n",
    "    targets = [random.uniform(0, 10) for _ in range(num_samples)]\n",
    "\n",
    "    loss_name = input('Input loss name (MAE, MSE, RMSE): ')\n",
    "\n",
    "    loss_functions = {\n",
    "        'MAE': MAE,\n",
    "        'MSE': MSE,\n",
    "        'RMSE': RMSE\n",
    "    }\n",
    "\n",
    "    if loss_name in loss_functions:\n",
    "        sum_loss = 0\n",
    "        for i in range(num_samples):\n",
    "            predict = predicts[i]\n",
    "            target = targets[i]\n",
    "            loss = loss_functions[loss_name](predict, target)\n",
    "\n",
    "            print(f\"loss name: {loss_name}, sample: {i}, pred: {predict:.6f}, target: {target:.6f}, loss: {loss:.6f}\")\n",
    "\n",
    "            sum_loss += loss\n",
    "\n",
    "        final_loss = sum_loss / num_samples\n",
    "        print(f\"final {loss_name}: {final_loss:.6f}\")\n",
    "    else:\n",
    "        print('Invalid regression loss function.')\n",
    "\n",
    "compute_loss()"
   ]
  },
  {
   "cell_type": "markdown",
   "metadata": {},
   "source": [
    "4. Viết 4 functions để ước lượng các hàm số sau."
   ]
  },
  {
   "cell_type": "code",
   "execution_count": 17,
   "metadata": {},
   "outputs": [
    {
     "name": "stdout",
     "output_type": "stream",
     "text": [
      "approx_sin: 0.001592652393160744\n",
      "approx_cos: -0.9999987352210833\n",
      "approx_sinh: 11.530292029865986\n",
      "approx_cosh: 11.573574824666185\n"
     ]
    }
   ],
   "source": [
    "import math\n",
    "\n",
    "def fact(n):\n",
    "    if n <= 0:\n",
    "        return 1\n",
    "    return n * fact(n - 1)\n",
    "\n",
    "def approx_sin(x=3.14, n=10):\n",
    "    result = 0\n",
    "    for i in range(n):\n",
    "        result += (-1)**i * (x**(2*i + 1)) / fact(2*i + 1)\n",
    "    return result\n",
    "\n",
    "def approx_cos(x=3.14, n=10):\n",
    "    result = 0\n",
    "    for i in range(n):\n",
    "        result += (-1)**i * (x**(2*i)) / fact(2*i)\n",
    "    return result\n",
    "\n",
    "def approx_sinh(x=3.14, n=10):\n",
    "    result = 0\n",
    "    for i in range(n):\n",
    "        result += (x**(2*i + 1)) / fact(2*i + 1)\n",
    "    return result\n",
    "\n",
    "def approx_cosh(x=3.14, n=10):\n",
    "    result = 0\n",
    "    for i in range(n):\n",
    "        result += (x**(2*i)) / fact(2*i)\n",
    "    return result\n",
    "\n",
    "print(\"approx_sin:\", approx_sin())\n",
    "print(\"approx_cos:\", approx_cos())\n",
    "print(\"approx_sinh:\", approx_sinh())\n",
    "print(\"approx_cosh:\", approx_cosh())\n"
   ]
  },
  {
   "cell_type": "markdown",
   "metadata": {},
   "source": [
    "5. Viết function thực hiện Mean Difference of n^th Root Error:"
   ]
  },
  {
   "cell_type": "code",
   "execution_count": 24,
   "metadata": {},
   "outputs": [
    {
     "name": "stdout",
     "output_type": "stream",
     "text": [
      "0.005012531328320802\n",
      "0.010050251256281407\n",
      "0.02531645569620253\n",
      "1.4285714285714286\n"
     ]
    }
   ],
   "source": [
    "import math\n",
    "\n",
    "def md_nre_single_sample(y, y_hat, n, p):\n",
    "    return abs(y - y_hat) / ((abs(y) + abs(y_hat)) / 2)**p\n",
    "\n",
    "print(md_nre_single_sample(100, 99.5, 2, 1))\n",
    "print(md_nre_single_sample(50, 49.5, 2, 1))\n",
    "print(md_nre_single_sample(20, 19.5, 2, 1))\n",
    "print(md_nre_single_sample(0.6, 0.1, 2, 1))"
   ]
  }
 ],
 "metadata": {
  "kernelspec": {
   "display_name": "venv",
   "language": "python",
   "name": "python3"
  },
  "language_info": {
   "codemirror_mode": {
    "name": "ipython",
    "version": 3
   },
   "file_extension": ".py",
   "mimetype": "text/x-python",
   "name": "python",
   "nbconvert_exporter": "python",
   "pygments_lexer": "ipython3",
   "version": "3.12.3"
  }
 },
 "nbformat": 4,
 "nbformat_minor": 2
}
