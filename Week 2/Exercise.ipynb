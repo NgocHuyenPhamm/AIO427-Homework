{
 "cells": [
  {
   "cell_type": "markdown",
   "metadata": {},
   "source": [
    "I. Câu hỏi tự luận\n",
    "1. Cho một list các số nguyên num_list và một sliding window có kích thước size k di\n",
    "chuyển từ trái sang phải. Mỗi lần dịch chuyển 1 vị trí sang phải có thể nhìn thấy\n",
    "đươc k số trong num_list và tìm số lớn nhất trong k số này sau mỗi lần trượt k phải\n",
    "lớn hơn hoặc bằng 1\n",
    "Input: num_list = [3, 4, 5, 1, -44 , 5 ,10, 12 ,33, 1] với k=3\n",
    "Output: [5, 5, 5, 5, 10, 12, 33, 33]\n",
    "Ví dụ:\n",
    "[3, 4, 5], 1, -44 , 5 ,10, 12 ,33, 1 => max 5\n",
    "3, [4, 5, 1], -44 , 5 ,10, 12 ,33, 1 => max 5\n",
    "3, 4, [5, 1, -44] , 5 ,10, 12 ,33, 1 => max 5\n",
    "3, 4, 5, [1, -44 , 5] ,10, 12 ,33, 1 => max 5\n",
    "3, 4, 5, 1, [-44 , 5 ,10], 12 ,33, 1 => max 10\n",
    "3, 4, 5, 1, -44 , [5 ,10, 12] ,33, 1 => max 12\n",
    "3, 4, 5, 1, -44 , 5 ,[10, 12 ,33], 1 => max 33\n",
    "3, 4, 5, 1, -44 , 5 ,10, [12 ,33, 1] => max 33"
   ]
  },
  {
   "cell_type": "markdown",
   "metadata": {},
   "source": [
    "2. Thực hiện theo các yêu cầu sau.\n",
    "Viết function trả về một dictionary đếm số lượng chữ xuất hiện trong một từ, với key là chữ cái\n",
    "và value là số lần xuất hiện\n",
    "• Input: một từ\n",
    "• Output: dictionary đếm số lần các chữ xuất hiện\n",
    "• Note: Giả sử các từ nhập vào đều có các chữ cái thuộc [a-z] hoặc [A-Z]"
   ]
  },
  {
   "cell_type": "code",
   "execution_count": null,
   "metadata": {},
   "outputs": [],
   "source": [
    "def sliding_window(num_list, k):\n",
    "    result = []\n",
    "    for i in range(len(num_list) - k + 1):\n",
    "        result.append(max(num_list[i:i+k]))\n",
    "    return result"
   ]
  },
  {
   "cell_type": "markdown",
   "metadata": {},
   "source": [
    "3. Thực hiện theo các yêu cầu sau.\n",
    "Viết function đọc các câu trong một file txt, đếm số lượng các từ xuất hiện và trả về một dictionary\n",
    "với key là từ và value là số lần từ đó xuất hiện.\n",
    "• Input: Đường dẫn đến file txt\n",
    "• Output: dictionary đếm số lần các từ xuất hiện\n",
    "• Note:\n",
    "– Giả sử các từ trong file txt đều có các chữ cái thuộc [a-z] hoặc [A-Z]\n",
    "– Không cần các thao tác xử lý string phức tạp nhưng cần xử lý các từ đều là viết\n",
    "thường\n",
    "– Các bạn dùng lệnh này để download\n",
    "!gdown https://drive.google.com/uc?id=1IBScGdW2xlNsc9v5zSAya548kNgiOrko"
   ]
  },
  {
   "cell_type": "markdown",
   "metadata": {},
   "source": [
    "4. Khoảng cách Levenshtein.\n",
    "Viết chương trình tính khoảng cách chỉnh sửa tối thiểu Levenshtein. Khoảng cách Levenshtein thể hiện khoảng cách khác biệt giữa 2 chuỗi ký tự. Khoảng cách Levenshtein giữa chuỗi S và chuỗi T là số bước ít nhất biến chuỗi S thành chuỗi T thông qua 3 phép biến đổi là:\n",
    "• Xoá một ký tự\n",
    "• Thêm một ký tự\n",
    "• Thay thế ký tự này bằng ký tự khác\n",
    "Khoảng cách này được sử dụng trong việc tính toán sự giống và khác nhau giữa 2 chuỗi, như chương trình kiểm tra lỗi chính tả của winword spellchecker. Ví dụ: Khoảng cách Levenshtein giữa 2 chuỗi \"kitten\" và \"sitting\" là 3, vì phải dùng ít nhất 3 lần biến đổi. Trong đó:\n",
    "• kitten -> sitten (thay \"k\" bằng \"s\")\n",
    "• sitten -> sittin (thay \"e\" bằng \"i\")\n",
    "• sittin -> sitting (thêm ký tự \"g\")\n",
    "Để hiểu rõ về thuật toán, chúng ta lấy ví dụ, khoảng cách cần tính giữa hai từ source: ’yu’ và target: ’you’. Chi phí thực hiện cho các phép biến đổi bao gồm: xoá một ký tự, thêm một ký tự và thay thế ký tự này thành ký tự khác đều là 1 (Nếu 2 ký tự giống nhau thì chi phí thực hiện là 0)."
   ]
  },
  {
   "cell_type": "markdown",
   "metadata": {},
   "source": [
    "II. Câu hỏi trắc nghiệm"
   ]
  },
  {
   "cell_type": "code",
   "execution_count": 1,
   "metadata": {},
   "outputs": [
    {
     "name": "stdout",
     "output_type": "stream",
     "text": [
      "[5, 5, 5, 5, 10, 12, 33, 33]\n"
     ]
    }
   ],
   "source": [
    "# Câu 1\n",
    "def max_kernel ( num_list , k ) :\n",
    "    result = []\n",
    "    for i in range ( len ( num_list ) - k + 1 ) :\n",
    "        result.append ( max ( num_list [ i : i + k ] ) )\n",
    "    return result\n",
    "assert max_kernel ([3 , 4 , 5 , 1 , -44] , 3) == [5 , 5 , 5]\n",
    "num_list = [3 , 4 , 5 , 1 , -44 , 5 ,10 , 12 ,33 , 1]\n",
    "k = 3\n",
    "print ( max_kernel ( num_list , k ) )"
   ]
  },
  {
   "cell_type": "code",
   "execution_count": 4,
   "metadata": {},
   "outputs": [
    {
     "name": "stdout",
     "output_type": "stream",
     "text": [
      "{'s': 2, 'm': 1, 'i': 1, 'l': 1, 'e': 1}\n"
     ]
    }
   ],
   "source": [
    "# Câu 2\n",
    "def character_count ( word ) :\n",
    "    character_statistic = {}\n",
    "    for character in word :\n",
    "        if character != \" \" :\n",
    "            if character in character_statistic :\n",
    "                character_statistic [ character ] += 1\n",
    "            else :\n",
    "                character_statistic [ character ] = 1\n",
    "    return character_statistic\n",
    "assert character_count (\"Baby\") == {'B': 1 , 'a': 1 , 'b': 1 , 'y': 1}\n",
    "print ( character_count ('smiles ') )\n"
   ]
  },
  {
   "cell_type": "code",
   "execution_count": 19,
   "metadata": {},
   "outputs": [
    {
     "name": "stdout",
     "output_type": "stream",
     "text": [
      "6\n"
     ]
    }
   ],
   "source": [
    "# Câu 3\n",
    "# read file P1_data.txt from https://drive.google.com/uc?id=1IBScGdW2xlNsc9v5zSAya548kNgiOrko\n",
    "def read_file ( file_name ) :\n",
    "    with open ( file_name , 'r' ) as file :\n",
    "        data = file.read ()\n",
    "    return data\n",
    "def count_word ( file_path ) :\n",
    "    counter = {}\n",
    "    with open ( file_path , 'r' ) as file :\n",
    "        for line in file :\n",
    "            for word in line . split () :\n",
    "                if word in counter :\n",
    "                    counter [ word ] += 1\n",
    "                else :\n",
    "                    counter [ word ] = 1\n",
    "    return counter\n",
    "file_path = 'P1_data.txt'\n",
    "result = count_word ( file_path )\n",
    "assert result ['who'] == 3\n",
    "print ( result ['man'])\n"
   ]
  },
  {
   "cell_type": "code",
   "execution_count": 26,
   "metadata": {},
   "outputs": [
    {
     "name": "stdout",
     "output_type": "stream",
     "text": [
      "4\n"
     ]
    }
   ],
   "source": [
    "# Câu 4\n",
    "def levenshtein_distance(token1, token2):\n",
    "    if len(token1) > len(token2):\n",
    "        token1, token2 = token2, token1\n",
    "    distance = 0\n",
    "    for i in range(len(token1)):\n",
    "        if token1[i] != token2[i]:\n",
    "            distance += 1\n",
    "    distance += len(token2) - len(token1)\n",
    "    return distance\n",
    "\n",
    "    assert levenshtein_distance(\" hi \", \" hello \") == 4\n",
    "print(levenshtein_distance(\" hola \", \" hello \"))\n"
   ]
  },
  {
   "cell_type": "code",
   "execution_count": 30,
   "metadata": {},
   "outputs": [
    {
     "name": "stdout",
     "output_type": "stream",
     "text": [
      "True\n"
     ]
    }
   ],
   "source": [
    "# Câu 5\n",
    "def check_the_number(N):\n",
    "    list_of_numbers = []\n",
    "    result = \"\"\n",
    "    for i in range(1, 5):\n",
    "        list_of_numbers.append(i)\n",
    "    if N in list_of_numbers:\n",
    "        result = \"True\"\n",
    "    else:\n",
    "        result = \"False\"\n",
    "    return result.strip()\n",
    "N = 7\n",
    "assert check_the_number(N) == \"False\"\n",
    "N = 2\n",
    "results = check_the_number ( N )\n",
    "print ( results )\n"
   ]
  },
  {
   "cell_type": "code",
   "execution_count": 31,
   "metadata": {},
   "outputs": [
    {
     "name": "stdout",
     "output_type": "stream",
     "text": [
      "[2, 2, 2, 1, 1]\n"
     ]
    }
   ],
   "source": [
    "# Câu 6\n",
    "def my_function ( data , max , min) :\n",
    "    result = []\n",
    "    for i in data :\n",
    "        if i < min :\n",
    "            result . append ( min )\n",
    "        elif i > max :\n",
    "            result . append ( max )\n",
    "        else :\n",
    "            result . append ( i )\n",
    "    return result\n",
    "my_list = [5 , 2 , 5 , 0 , 1]\n",
    "max = 1\n",
    "min = 0\n",
    "assert my_function (max = max , min = min , data = my_list ) == [1 , 1 , 1 , 0 , 1]\n",
    "my_list = [10 , 2 , 5 , 0 , 1]\n",
    "max = 2\n",
    "min = 1\n",
    "print ( my_function (max = max , min = min , data = my_list ) )"
   ]
  },
  {
   "cell_type": "code",
   "execution_count": 34,
   "metadata": {},
   "outputs": [
    {
     "name": "stdout",
     "output_type": "stream",
     "text": [
      "[1, 2, 3, 4, 0, 0]\n"
     ]
    }
   ],
   "source": [
    "# Câu 7 \n",
    "def my_function (x , y ) :\n",
    "    return x + y\n",
    "list_num1 = ['a', 2 , 5]\n",
    "list_num2 = [1 , 1]\n",
    "list_num3 = [0 , 0]\n",
    "assert my_function ( list_num1 , my_function ( list_num2 , list_num3 ) ) == ['a', 2 , 5 , 1 , 1 , 0 , 0]\n",
    "list_num1 = [1 , 2]\n",
    "list_num2 = [3 , 4]\n",
    "list_num3 = [0 , 0]\n",
    "print ( my_function ( list_num1 , my_function ( list_num2 , list_num3 ) ) )"
   ]
  },
  {
   "cell_type": "code",
   "execution_count": 41,
   "metadata": {},
   "outputs": [
    {
     "name": "stdout",
     "output_type": "stream",
     "text": [
      "-1\n"
     ]
    }
   ],
   "source": [
    "# Câu 8\n",
    "def my_function(n):\n",
    "    return my_list[-1]\n",
    "\n",
    "my_list = [1, 22, 93, -100]\n",
    "assert my_function(my_list) == -100\n",
    "\n",
    "my_list = [1, 2, 3, -1]\n",
    "print(my_function(my_list)) \n",
    "\n"
   ]
  },
  {
   "cell_type": "code",
   "execution_count": 51,
   "metadata": {},
   "outputs": [
    {
     "data": {
      "text/plain": [
       "9"
      ]
     },
     "execution_count": 51,
     "metadata": {},
     "output_type": "execute_result"
    }
   ],
   "source": [
    "# Câu 9\n",
    "def find_max_number(lst):\n",
    "    max_num = lst[0]\n",
    "    for num in lst:\n",
    "        if num > max_num:\n",
    "            max_num = num\n",
    "    return max_num\n",
    "\n",
    "my_list = [1, 9, 9, 0]\n",
    "find_max_number(my_list)"
   ]
  },
  {
   "cell_type": "code",
   "execution_count": 52,
   "metadata": {},
   "outputs": [
    {
     "name": "stdout",
     "output_type": "stream",
     "text": [
      "True\n"
     ]
    }
   ],
   "source": [
    "# Câu 10\n",
    "def My_function ( integers , number = 1) :\n",
    "    return any( [ integer == number for integer in integers ] )\n",
    "        # Your code here : Thuc hien duyet tung phan tu trong integers , so sanh tung phan tu voi number , neu bang nhau tra ve True , khac nhau tra ve false\n",
    "        #vi du: integers = [1 , 2 , 3] , number = 2 , ban se tao ra list [False ,True , False ] )\n",
    "my_list = [1 , 3 , 9 , 4]\n",
    "assert My_function ( my_list , -1) == False\n",
    "\n",
    "my_list = [1 , 2 , 3 , 4]\n",
    "print ( My_function ( my_list , 2) )"
   ]
  },
  {
   "cell_type": "code",
   "execution_count": 54,
   "metadata": {},
   "outputs": [
    {
     "name": "stdout",
     "output_type": "stream",
     "text": [
      "1.0\n"
     ]
    }
   ],
   "source": [
    "# Câu 11\n",
    "def my_function ( list_nums = [0 , 1 , 2]) :\n",
    "    var = 0\n",
    "    for i in list_nums :\n",
    "        var += i\n",
    "    return var / len ( list_nums ) # Your code here : Tra ve gia tri trung binh cua list bang cach chia var cho so luong phan tu trong list_mums\n",
    "assert my_function ([4 , 6 , 8]) == 6\n",
    "print ( my_function () )"
   ]
  },
  {
   "cell_type": "code",
   "execution_count": 56,
   "metadata": {},
   "outputs": [
    {
     "name": "stdout",
     "output_type": "stream",
     "text": [
      "[3, 6]\n"
     ]
    }
   ],
   "source": [
    "# Câu 12\n",
    "def my_function ( data ) :\n",
    "    var = []\n",
    "    for i in data :\n",
    "        # Neu i chia het cho 3 thi them i vao list var\n",
    "        if i % 3 == 0 :\n",
    "            var . append ( i )\n",
    "    return var\n",
    "assert my_function ([3 , 9 , 4 , 5]) == [3 , 9]\n",
    "print ( my_function ([1 , 2 , 3 , 5 , 6]) )"
   ]
  },
  {
   "cell_type": "code",
   "execution_count": 57,
   "metadata": {},
   "outputs": [
    {
     "name": "stdout",
     "output_type": "stream",
     "text": [
      "24\n"
     ]
    }
   ],
   "source": [
    "# Câu 13\n",
    "def my_function ( y ) :\n",
    "    var = 1\n",
    "    while ( y > 1) :\n",
    "        var *= y\n",
    "        y -= 1\n",
    "    return var\n",
    "assert my_function (8) == 40320\n",
    "print ( my_function (4) )"
   ]
  },
  {
   "cell_type": "code",
   "execution_count": 58,
   "metadata": {},
   "outputs": [
    {
     "name": "stdout",
     "output_type": "stream",
     "text": [
      "tocirpa\n"
     ]
    }
   ],
   "source": [
    "# Câu 14\n",
    "def my_function ( x ) :\n",
    "    return x [:: -1]\n",
    "x = 'I can do it'\n",
    "assert my_function (x ) ==\"ti od nac I\"\n",
    "x = 'apricot'\n",
    "print ( my_function ( x ) )"
   ]
  },
  {
   "cell_type": "code",
   "execution_count": 59,
   "metadata": {},
   "outputs": [
    {
     "name": "stdout",
     "output_type": "stream",
     "text": [
      "['T', 'T', 'T', 'N']\n"
     ]
    }
   ],
   "source": [
    "# Câu 15\n",
    "def function_helper ( x ) :\n",
    "    # Neu x >0 tra ve ’T ’, nguoc lai tra ve ’N’\n",
    "    return 'T' if x > 0 else 'N'\n",
    "def my_function ( data ) :\n",
    "    res = [ function_helper ( x ) for x in data ]\n",
    "    return res\n",
    "\n",
    "data = [10 , 0 , -10 , -1]\n",
    "assert my_function ( data ) == ['T', 'N', 'N', 'N']\n",
    "\n",
    "data = [2 , 3 , 5 , -1]\n",
    "print ( my_function ( data ) )"
   ]
  },
  {
   "cell_type": "code",
   "execution_count": 61,
   "metadata": {},
   "outputs": [
    {
     "name": "stdout",
     "output_type": "stream",
     "text": [
      "[9, 8, 1]\n"
     ]
    }
   ],
   "source": [
    "# Câu 16\n",
    "def function_helper(x, data):\n",
    "    for i in data:\n",
    "        if x == i:\n",
    "            return 0\n",
    "    return 1\n",
    "\n",
    "def my_function(data):\n",
    "    res = []\n",
    "    for i in data:\n",
    "        if function_helper(i, res):\n",
    "            res.append(i)\n",
    "    return res\n",
    "\n",
    "lst = [10, 10, 9, 7, 7]\n",
    "assert my_function ( lst ) ==[10 , 9 , 7]\n",
    "lst = [9 , 9 , 8 , 1 , 1]\n",
    "print ( my_function ( lst ) )"
   ]
  }
 ],
 "metadata": {
  "kernelspec": {
   "display_name": "venv",
   "language": "python",
   "name": "python3"
  },
  "language_info": {
   "codemirror_mode": {
    "name": "ipython",
    "version": 3
   },
   "file_extension": ".py",
   "mimetype": "text/x-python",
   "name": "python",
   "nbconvert_exporter": "python",
   "pygments_lexer": "ipython3",
   "version": "3.12.3"
  }
 },
 "nbformat": 4,
 "nbformat_minor": 2
}
